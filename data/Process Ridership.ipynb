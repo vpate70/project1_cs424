{
 "cells": [
  {
   "cell_type": "code",
   "execution_count": 17,
   "id": "2f9ce6e8",
   "metadata": {},
   "outputs": [
    {
     "name": "stdout",
     "output_type": "stream",
     "text": [
      "Processed 1088959 lines.\n"
     ]
    }
   ],
   "source": [
    "import csv\n",
    "\n",
    "with open('ridership.csv') as csv_file:\n",
    "    csv_reader = csv.reader(csv_file, delimiter=',')\n",
    "    halsted = []\n",
    "    ohare = []\n",
    "    jefferson = []\n",
    "    line_count = 0\n",
    "    for row in csv_reader:\n",
    "        if(line_count == 0):\n",
    "            halsted.append(row)\n",
    "            ohare.append(row)\n",
    "            jefferson.append(row)\n",
    "            \n",
    "        if(row[1] == 'Jefferson Park'):\n",
    "            jefferson.append(row)\n",
    "        if(row[1] == 'O\\'Hare Airport'):\n",
    "            ohare.append(row)\n",
    "        if(row[1] == 'UIC-Halsted'):\n",
    "            halsted.append(row)\n",
    "        line_count += 1\n",
    "    print(f'Processed {line_count} lines.')"
   ]
  },
  {
   "cell_type": "code",
   "execution_count": 18,
   "id": "74701eb5",
   "metadata": {},
   "outputs": [],
   "source": [
    "filename = \"ridership_ohare_updated.csv\"\n",
    "with open(filename, 'w') as csvfile: \n",
    "    csvwriter = csv.writer(csvfile) \n",
    "    csvwriter.writerows(ohare)\n",
    "filename = \"ridership_halsted_updated.csv\"\n",
    "with open(filename, 'w') as csvfile: \n",
    "    csvwriter = csv.writer(csvfile) \n",
    "    csvwriter.writerows(halsted)\n",
    "filename = \"ridership_jefferson_updated.csv\"\n",
    "with open(filename, 'w') as csvfile: \n",
    "    csvwriter = csv.writer(csvfile) \n",
    "    csvwriter.writerows(jefferson)"
   ]
  },
  {
   "cell_type": "code",
   "execution_count": 13,
   "id": "ee09c350",
   "metadata": {},
   "outputs": [
    {
     "name": "stdout",
     "output_type": "stream",
     "text": [
      "['station_id', 'stationname', 'date', 'daytype', 'rides']\n"
     ]
    }
   ],
   "source": []
  }
 ],
 "metadata": {
  "kernelspec": {
   "display_name": "Python 3 (ipykernel)",
   "language": "python",
   "name": "python3"
  },
  "language_info": {
   "codemirror_mode": {
    "name": "ipython",
    "version": 3
   },
   "file_extension": ".py",
   "mimetype": "text/x-python",
   "name": "python",
   "nbconvert_exporter": "python",
   "pygments_lexer": "ipython3",
   "version": "3.8.12"
  }
 },
 "nbformat": 4,
 "nbformat_minor": 5
}
